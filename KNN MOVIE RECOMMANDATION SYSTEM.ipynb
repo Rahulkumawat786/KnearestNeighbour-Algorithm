{
 "cells": [
  {
   "cell_type": "code",
   "execution_count": 1,
   "metadata": {},
   "outputs": [],
   "source": [
    "import numpy as np\n",
    "import pandas as pd\n",
    "import matplotlib.pyplot as plt\n",
    "from collections import Counter"
   ]
  },
  {
   "cell_type": "code",
   "execution_count": 2,
   "metadata": {},
   "outputs": [],
   "source": [
    "from sklearn.model_selection import KFold"
   ]
  },
  {
   "cell_type": "code",
   "execution_count": 3,
   "metadata": {},
   "outputs": [],
   "source": [
    "class KNN:\n",
    "    #constructor\n",
    "    def __init__(self,neighbours=5):\n",
    "        self.neighbours = neighbours\n",
    "        \n",
    "    def fit(self,X,y):\n",
    "        self.X = np.array(X)\n",
    "        self.y = np.array(y)\n",
    "          \n",
    "    def predict_point(self,point):\n",
    "        point = np.array(point)\n",
    "        all_dist = []\n",
    "        for x_point,y_point in zip(self.X,self.y):\n",
    "            dist = ((x_point-point)**2).sum()\n",
    "            all_dist.append([dist,y_point])\n",
    "        all_dist.sort()\n",
    "        all_dist = all_dist[:self.neighbours]\n",
    "        k_nearest_labels = [label for distance,label in all_dist]\n",
    "        return Counter(k_nearest_labels).most_common()[0][0]\n",
    "     \n",
    "        \n",
    "    def predict(self,all_points):\n",
    "        result = []\n",
    "        for point in all_points:\n",
    "            result.append(self.predict_point(point))\n",
    "        return result\n",
    "    \n",
    "    def score(self,X_test,y_test):\n",
    "        result = np.array(self.predict(X_test))\n",
    "        y = np.array(y_test)\n",
    "        return sum(result==y)/len(y)\n",
    "        \n",
    "        "
   ]
  },
  {
   "cell_type": "code",
   "execution_count": 4,
   "metadata": {},
   "outputs": [],
   "source": [
    "class KnnWithBestK:\n",
    "    def __init__(self,start,end):\n",
    "        if start%2==0:\n",
    "            self.start = start+1\n",
    "        else:\n",
    "            self.start = start\n",
    "        self.end = end\n",
    "        \n",
    "    def fit(self,X,y,k=5):\n",
    "        kf = KFold(n_splits=k,shuffle = True)\n",
    "        k_value = range(self.start,self.end+1)\n",
    "        accuracy = []\n",
    "        for K in k_value:\n",
    "            kfold_accuracy = []\n",
    "            for i in range(k):\n",
    "                result = next(kf.split(X),None)\n",
    "                X_train = X[result[0]]\n",
    "                X_val = X[result[1]]\n",
    "                y_train = y[result[0]]\n",
    "                y_val = y[result[1]]\n",
    "                model = KNN(K)\n",
    "                model.fit(X_train,y_train)\n",
    "                kfold_accuracy.append(model.score(X_val,y_val))\n",
    "            accuracy.append(np.mean(kfold_accuracy))\n",
    "        self.neighbours = k_value[np.argmax(accuracy)]\n",
    "        self.X = X\n",
    "        self.y = y\n",
    "    \n",
    "    def predict(self,X_test):\n",
    "        model = KNN(self.neighbours)\n",
    "        model.fit(self.X,self.y)\n",
    "        result = model.predict(X_test)\n",
    "        return result\n",
    "    def score(self,X_test,y_test):\n",
    "        model = KNN(self.neighbours)\n",
    "        model.fit(self.X,self.y)\n",
    "        return model.score(X_test,y_test)"
   ]
  },
  {
   "cell_type": "code",
   "execution_count": 5,
   "metadata": {},
   "outputs": [],
   "source": [
    "from sklearn import datasets"
   ]
  },
  {
   "cell_type": "code",
   "execution_count": 6,
   "metadata": {},
   "outputs": [],
   "source": [
    "iris_data = datasets.load_iris()"
   ]
  },
  {
   "cell_type": "code",
   "execution_count": 7,
   "metadata": {},
   "outputs": [],
   "source": [
    "X = iris_data.data\n",
    "y = iris_data.target"
   ]
  },
  {
   "cell_type": "code",
   "execution_count": 8,
   "metadata": {},
   "outputs": [],
   "source": [
    "from sklearn.preprocessing import normalize"
   ]
  },
  {
   "cell_type": "code",
   "execution_count": 76,
   "metadata": {},
   "outputs": [],
   "source": [
    "X = normalize(X,axis=0)"
   ]
  },
  {
   "cell_type": "code",
   "execution_count": 77,
   "metadata": {},
   "outputs": [],
   "source": [
    "from sklearn.model_selection import train_test_split"
   ]
  },
  {
   "cell_type": "code",
   "execution_count": 78,
   "metadata": {},
   "outputs": [],
   "source": [
    "X_train,X_test,y_train,y_test = train_test_split(X,y,test_size = 0.23,shuffle=True,random_state = 42)"
   ]
  },
  {
   "cell_type": "code",
   "execution_count": 79,
   "metadata": {},
   "outputs": [
    {
     "data": {
      "text/plain": [
       "(115, 4)"
      ]
     },
     "execution_count": 79,
     "metadata": {},
     "output_type": "execute_result"
    }
   ],
   "source": [
    "X_train.shape"
   ]
  },
  {
   "cell_type": "code",
   "execution_count": 80,
   "metadata": {},
   "outputs": [
    {
     "data": {
      "text/plain": [
       "(35, 4)"
      ]
     },
     "execution_count": 80,
     "metadata": {},
     "output_type": "execute_result"
    }
   ],
   "source": [
    "X_test.shape"
   ]
  },
  {
   "cell_type": "code",
   "execution_count": 81,
   "metadata": {},
   "outputs": [],
   "source": [
    "model = KNN()\n",
    "model.fit(X_train,y_train)"
   ]
  },
  {
   "cell_type": "code",
   "execution_count": 85,
   "metadata": {},
   "outputs": [],
   "source": [
    "y_pred = np.array(model.predict(X_test))"
   ]
  },
  {
   "cell_type": "code",
   "execution_count": 86,
   "metadata": {},
   "outputs": [
    {
     "data": {
      "text/plain": [
       "35"
      ]
     },
     "execution_count": 86,
     "metadata": {},
     "output_type": "execute_result"
    }
   ],
   "source": [
    "sum(y_pred==y_test)"
   ]
  },
  {
   "cell_type": "code",
   "execution_count": 87,
   "metadata": {},
   "outputs": [
    {
     "data": {
      "text/plain": [
       "35"
      ]
     },
     "execution_count": 87,
     "metadata": {},
     "output_type": "execute_result"
    }
   ],
   "source": [
    "len(y_test)"
   ]
  },
  {
   "cell_type": "code",
   "execution_count": 95,
   "metadata": {},
   "outputs": [],
   "source": [
    "model2 = KnnWithBestK(1,10)"
   ]
  },
  {
   "cell_type": "code",
   "execution_count": 96,
   "metadata": {},
   "outputs": [],
   "source": [
    "model2.fit(X_train,y_train)"
   ]
  },
  {
   "cell_type": "code",
   "execution_count": 97,
   "metadata": {},
   "outputs": [
    {
     "data": {
      "text/plain": [
       "1.0"
      ]
     },
     "execution_count": 97,
     "metadata": {},
     "output_type": "execute_result"
    }
   ],
   "source": [
    "model2.score(X_test,y_test)"
   ]
  },
  {
   "cell_type": "code",
   "execution_count": 98,
   "metadata": {},
   "outputs": [],
   "source": [
    "from sklearn.neighbors import KNeighborsClassifier"
   ]
  },
  {
   "cell_type": "code",
   "execution_count": 99,
   "metadata": {},
   "outputs": [],
   "source": [
    "model = KNeighborsClassifier()"
   ]
  },
  {
   "cell_type": "code",
   "execution_count": null,
   "metadata": {},
   "outputs": [],
   "source": []
  },
  {
   "cell_type": "code",
   "execution_count": null,
   "metadata": {},
   "outputs": [],
   "source": []
  },
  {
   "cell_type": "code",
   "execution_count": null,
   "metadata": {},
   "outputs": [],
   "source": []
  }
 ],
 "metadata": {
  "kernelspec": {
   "display_name": "Python 3",
   "language": "python",
   "name": "python3"
  },
  "language_info": {
   "codemirror_mode": {
    "name": "ipython",
    "version": 3
   },
   "file_extension": ".py",
   "mimetype": "text/x-python",
   "name": "python",
   "nbconvert_exporter": "python",
   "pygments_lexer": "ipython3",
   "version": "3.8.5"
  }
 },
 "nbformat": 4,
 "nbformat_minor": 4
}
